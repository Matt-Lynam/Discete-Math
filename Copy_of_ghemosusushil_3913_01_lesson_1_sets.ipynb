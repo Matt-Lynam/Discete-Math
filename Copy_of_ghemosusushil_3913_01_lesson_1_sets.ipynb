{
  "nbformat": 4,
  "nbformat_minor": 0,
  "metadata": {
    "colab": {
      "provenance": []
    },
    "kernelspec": {
      "name": "python3",
      "display_name": "Python 3"
    },
    "language_info": {
      "name": "python"
    }
  },
  "cells": [
    {
      "cell_type": "code",
      "execution_count": null,
      "metadata": {
        "id": "_rV96RBuOSvx"
      },
      "outputs": [],
      "source": []
    },
    {
      "cell_type": "markdown",
      "source": [
        "Sets, Relation and Function\n",
        "\n",
        "sushil ghemosu  234351\n",
        "\n",
        "Here I am going to take student of ECU who topped in science, Math, English.\n"
      ],
      "metadata": {
        "id": "_XIYcvfBQUgW"
      }
    },
    {
      "cell_type": "code",
      "source": [
        "#Science ={Tom, Siru, Shawn, Dev, Niru}\n",
        "#Math = {Niru, Prem, Anish, Siru, Sanjana } \n",
        "#English = {Siru,Anish,Govin,Shyam, Tom}\n",
        "\n",
        "String = 'Science'\n",
        "String = 'Math'\n",
        "String = 'English'\n",
        "\n",
        "cience = [Tom, Siru, Shawn, Dev, Niru]\n",
        "Math = [Niru, Prem, Anish, Siru, Sanjana]\n",
        "English = [Siru,Anish,Govin,Shyam, Tom]"
      ],
      "metadata": {
        "id": "3sp6GyKjRhmt"
      },
      "execution_count": null,
      "outputs": []
    },
    {
      "cell_type": "markdown",
      "source": [
        "For universal U cointains all the students who topped in science,Math,English"
      ],
      "metadata": {
        "id": "wTqqxEYPXO2V"
      }
    },
    {
      "cell_type": "code",
      "source": [
        "Science U Math U English = {Tom,Siru,Shawn,Dev,Niru,Prem,Anish,Sanjana,Govin, Shyam}"
      ],
      "metadata": {
        "id": "17a6wYTQXior"
      },
      "execution_count": null,
      "outputs": []
    },
    {
      "cell_type": "markdown",
      "source": [
        "c answer:\n",
        "Compute the intersection and unions A ∪ B, A ∪ C, B ∪ C, A ∩ B, A ∩ C,and B ∩ C. Is there any\n",
        "difference in which set is called first, why or why not?\n",
        "\n",
        "union means all included and remove the dublicate one. In intersection we only choose the dublicate one."
      ],
      "metadata": {
        "id": "4wOnLKi3YwXP"
      }
    },
    {
      "cell_type": "code",
      "source": [
        "string = 'Science'\n",
        "string  = 'Math'\n",
        "string = 'English'\n",
        " print(\"Science ∪ Math:\" Science.union(Math))\n",
        "#Science U Math = {Tom, Siru,Shawn, Dev,Niru,Prem,Anish, Sajana}\n",
        "\n",
        "print (\"Science ∪ English:\" Science.union(English))\n",
        "#Science U English = {Tom, Siru, Shawn ,Dev ,Niru, Anish, Govin,Shyam}\n",
        "\n",
        "print(\"Math ∪ English:\" Math.union(English))\n",
        "#Math U English = {Niru,Prem,Siru,sajana,Anish,Govin,Shyam, Tom}\n",
        "\n",
        "print(Science.intersection(Math))\n",
        "#Science ∩ Math = {Siru, Niru}\n",
        "\n",
        "print(Science.intersection(English))\n",
        "#Science ∩ English = {Siru,Tom}\n",
        "\n",
        "print(Math.intersection(English))\n",
        "#Math ∩ English = {Siru}\n",
        "\n",
        "\n",
        "\n"
      ],
      "metadata": {
        "id": "E2BlKeH9ZIIT"
      },
      "execution_count": null,
      "outputs": []
    },
    {
      "cell_type": "markdown",
      "source": [
        "d answer:"
      ],
      "metadata": {
        "id": "2rYql0x8oVWz"
      }
    },
    {
      "cell_type": "code",
      "source": [
        "U - Science = {Niru,Prem,Anish,Sanjana,Govin,Shyam,}\n",
        "U- Math= {Tom,Siru,Shawn,Dev,Govin,Shyam,Tom }\n",
        "U- English={ Tom,Shawn,Dev,Niru,Prem,Anish, Sanjana}\n",
        "Science  ∩ Math  ∩ English ={siru}\n",
        "\n",
        "compliment (science U Math)=compliment (science  ∩ Math)\n",
        "\n"
      ],
      "metadata": {
        "id": "pjHmI6srqg-O"
      },
      "execution_count": null,
      "outputs": []
    },
    {
      "cell_type": "markdown",
      "source": [
        "e. answer\n",
        "no, there are no subsets in these sets"
      ],
      "metadata": {
        "id": "NU1IzjiZuut_"
      }
    },
    {
      "cell_type": "markdown",
      "source": [
        "f. answer\n",
        "we will iterate a loop over 0 to the length of the set to obtain and generate all possible combination of that strings with the iterable length."
      ],
      "metadata": {
        "id": "UbvuaTXdwA70"
      }
    },
    {
      "cell_type": "code",
      "source": [
        "from itertools import combinations \n",
        "def print_powerset (string):\n",
        "  for i in range (0,len(string)+1): \n",
        "     for element in combinations (string,i):\n",
        "       print(''.join(element))\n",
        "  string=['Tom,Siru,Shawn,Dev,Niru']\n",
        "  print_powerset(string)"
      ],
      "metadata": {
        "id": "pM554iLDwiG6"
      },
      "execution_count": null,
      "outputs": []
    }
  ]
}